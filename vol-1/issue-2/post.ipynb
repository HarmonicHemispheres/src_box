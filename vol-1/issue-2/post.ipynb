{
 "cells": [
  {
   "cell_type": "markdown",
   "metadata": {},
   "source": [
    "\n",
    "![banner](banner.png)\n",
    "\n",
    "<h1 align=\"center\">\n",
    "An Introduction to Julia\n",
    "</h1>\n",
    "<h5 align=\"center\">\n",
    "Author: <i>Robby Boney</i>  |\n",
    "Vol: 1 |\n",
    "Iss: 2\n",
    "</h5>\n",
    "<hr>\n",
    "<br>"
   ]
  },
  {
   "cell_type": "markdown",
   "metadata": {},
   "source": [
    "# What is Julia?\n",
    "\n",
    "> **Julia is a high-level, high-performance, dynamic programming language. While it is a general purpose language and can be used to write any application, many of its features are well-suited for high-performance numerical analysis and computational science.** ~ https://en.wikipedia.org/wiki/Julia_(programming_language)\n",
    "\n",
    "> **Julia in a Nutshell: Julia is Fast compiling with LLVM, dynamically & optionally typed, open source, high level syntax, general purpose** ~ https://julialang.org/"
   ]
  },
  {
   "cell_type": "markdown",
   "metadata": {},
   "source": [
    "# Why Another Language...?\n",
    "- [near C Speed out of the box](https://julialang.org/benchmarks/)\n",
    "- Solves the two language problem\n",
    "- intuitive for technical computing (math, science, data, \"AI\")\n",
    "- opt in type system\n",
    "- first class support for parallel computing\n",
    "- composable with multiple dispatch for powerful code organization (particularly useful for mathematical operations)\n",
    "- first class support for math functions with syntax and unicode characters"
   ]
  },
  {
   "cell_type": "markdown",
   "metadata": {},
   "source": [
    "# Julia's Status Today?\n",
    "Over 13Million Downloads to date\n",
    "\n",
    "- https://juliaobserver.com/\n",
    "- https://julialang.org/research/"
   ]
  },
  {
   "cell_type": "markdown",
   "metadata": {},
   "source": [
    "# Quick Syntax Overview ([cheat sheet](https://juliadocs.github.io/Julia-Cheat-Sheet/))"
   ]
  },
  {
   "cell_type": "code",
   "execution_count": 148,
   "metadata": {},
   "outputs": [
    {
     "data": {
      "text/plain": [
       "19"
      ]
     },
     "execution_count": 148,
     "metadata": {},
     "output_type": "execute_result"
    }
   ],
   "source": [
    "# just some ol comments\n",
    "\n",
    "# numbers and things\n",
    "4 + 3 * 5"
   ]
  },
  {
   "cell_type": "code",
   "execution_count": 149,
   "metadata": {},
   "outputs": [
    {
     "data": {
      "text/plain": [
       "127"
      ]
     },
     "execution_count": 149,
     "metadata": {},
     "output_type": "execute_result"
    }
   ],
   "source": [
    "# functions are neat... and mathematical\n",
    "f(x)::Int8 = 16x + 15\n",
    "f(7)"
   ]
  },
  {
   "cell_type": "code",
   "execution_count": 150,
   "metadata": {},
   "outputs": [
    {
     "data": {
      "text/plain": [
       "true"
      ]
     },
     "execution_count": 150,
     "metadata": {},
     "output_type": "execute_result"
    }
   ],
   "source": [
    "1 == 1"
   ]
  },
  {
   "cell_type": "code",
   "execution_count": 151,
   "metadata": {},
   "outputs": [
    {
     "name": "stdout",
     "output_type": "stream",
     "text": [
      "1 1 2 3 5 8 13 21 34 55 89 144 233 377 610 987 1597 2584 4181 6765 10946 17711 28657 46368 75025 121393 196418 317811 514229 832040 1346269 2178309 3524578 5702887 9227465 14930352 24157817 39088169 63245986 102334155 165580141 267914296 433494437 701408733 1134903170 "
     ]
    }
   ],
   "source": [
    "# bigger functions are a thing...\n",
    "function fib(n, i=0)\n",
    "    if i >= n-2\n",
    "        return 1\n",
    "    else\n",
    "        return fib(n, i+1) + fib(n, i+2)\n",
    "    end\n",
    "end\n",
    "\n",
    "# loops are useful\n",
    "for i = 1:45\n",
    "    r = fib(i)\n",
    "    print(\"$r \")\n",
    "end"
   ]
  },
  {
   "cell_type": "markdown",
   "metadata": {},
   "source": [
    "### MATH CHARACTER SUPPORT.... WOT!?!?!?!\n",
    "https://docs.julialang.org/en/v1/manual/unicode-input/\n",
    "\n",
    "S1. type completion sequence... \\sqrt\n",
    "\n",
    "S2. hit tab..."
   ]
  },
  {
   "cell_type": "code",
   "execution_count": 92,
   "metadata": {},
   "outputs": [
    {
     "data": {
      "text/plain": [
       "2.23606797749979"
      ]
     },
     "execution_count": 92,
     "metadata": {},
     "output_type": "execute_result"
    }
   ],
   "source": [
    "√(5 * 1)"
   ]
  },
  {
   "cell_type": "code",
   "execution_count": 128,
   "metadata": {},
   "outputs": [
    {
     "data": {
      "image/svg+xml": [
       "<?xml version=\"1.0\" encoding=\"utf-8\"?>\n",
       "<svg xmlns=\"http://www.w3.org/2000/svg\" xmlns:xlink=\"http://www.w3.org/1999/xlink\" width=\"600\" height=\"400\" viewBox=\"0 0 2400 1600\">\n",
       "<defs>\n",
       "  <clipPath id=\"clip9000\">\n",
       "    <rect x=\"0\" y=\"0\" width=\"2400\" height=\"1600\"/>\n",
       "  </clipPath>\n",
       "</defs>\n",
       "<path clip-path=\"url(#clip9000)\" d=\"\n",
       "M0 1600 L2400 1600 L2400 0 L0 0  Z\n",
       "  \" fill=\"#ffffff\" fill-rule=\"evenodd\" fill-opacity=\"1\"/>\n",
       "<defs>\n",
       "  <clipPath id=\"clip9001\">\n",
       "    <rect x=\"480\" y=\"0\" width=\"1681\" height=\"1600\"/>\n",
       "  </clipPath>\n",
       "</defs>\n",
       "<path clip-path=\"url(#clip9000)\" d=\"\n",
       "M126.969 1486.45 L2352.76 1486.45 L2352.76 47.2441 L126.969 47.2441  Z\n",
       "  \" fill=\"#ffffff\" fill-rule=\"evenodd\" fill-opacity=\"1\"/>\n",
       "<defs>\n",
       "  <clipPath id=\"clip9002\">\n",
       "    <rect x=\"126\" y=\"47\" width=\"2227\" height=\"1440\"/>\n",
       "  </clipPath>\n",
       "</defs>\n",
       "<polyline clip-path=\"url(#clip9002)\" style=\"stroke:#000000; stroke-width:2; stroke-opacity:0.1; fill:none\" points=\"\n",
       "  330.623,1486.45 330.623,47.2441 \n",
       "  \"/>\n",
       "<polyline clip-path=\"url(#clip9002)\" style=\"stroke:#000000; stroke-width:2; stroke-opacity:0.1; fill:none\" points=\"\n",
       "  633.703,1486.45 633.703,47.2441 \n",
       "  \"/>\n",
       "<polyline clip-path=\"url(#clip9002)\" style=\"stroke:#000000; stroke-width:2; stroke-opacity:0.1; fill:none\" points=\"\n",
       "  936.782,1486.45 936.782,47.2441 \n",
       "  \"/>\n",
       "<polyline clip-path=\"url(#clip9002)\" style=\"stroke:#000000; stroke-width:2; stroke-opacity:0.1; fill:none\" points=\"\n",
       "  1239.86,1486.45 1239.86,47.2441 \n",
       "  \"/>\n",
       "<polyline clip-path=\"url(#clip9002)\" style=\"stroke:#000000; stroke-width:2; stroke-opacity:0.1; fill:none\" points=\"\n",
       "  1542.94,1486.45 1542.94,47.2441 \n",
       "  \"/>\n",
       "<polyline clip-path=\"url(#clip9002)\" style=\"stroke:#000000; stroke-width:2; stroke-opacity:0.1; fill:none\" points=\"\n",
       "  1846.02,1486.45 1846.02,47.2441 \n",
       "  \"/>\n",
       "<polyline clip-path=\"url(#clip9002)\" style=\"stroke:#000000; stroke-width:2; stroke-opacity:0.1; fill:none\" points=\"\n",
       "  2149.1,1486.45 2149.1,47.2441 \n",
       "  \"/>\n",
       "<polyline clip-path=\"url(#clip9002)\" style=\"stroke:#000000; stroke-width:2; stroke-opacity:0.1; fill:none\" points=\"\n",
       "  126.969,1445.72 2352.76,1445.72 \n",
       "  \"/>\n",
       "<polyline clip-path=\"url(#clip9002)\" style=\"stroke:#000000; stroke-width:2; stroke-opacity:0.1; fill:none\" points=\"\n",
       "  126.969,1106.28 2352.76,1106.28 \n",
       "  \"/>\n",
       "<polyline clip-path=\"url(#clip9002)\" style=\"stroke:#000000; stroke-width:2; stroke-opacity:0.1; fill:none\" points=\"\n",
       "  126.969,766.846 2352.76,766.846 \n",
       "  \"/>\n",
       "<polyline clip-path=\"url(#clip9002)\" style=\"stroke:#000000; stroke-width:2; stroke-opacity:0.1; fill:none\" points=\"\n",
       "  126.969,427.411 2352.76,427.411 \n",
       "  \"/>\n",
       "<polyline clip-path=\"url(#clip9002)\" style=\"stroke:#000000; stroke-width:2; stroke-opacity:0.1; fill:none\" points=\"\n",
       "  126.969,87.9763 2352.76,87.9763 \n",
       "  \"/>\n",
       "<polyline clip-path=\"url(#clip9000)\" style=\"stroke:#000000; stroke-width:4; stroke-opacity:1; fill:none\" points=\"\n",
       "  126.969,1486.45 2352.76,1486.45 \n",
       "  \"/>\n",
       "<polyline clip-path=\"url(#clip9000)\" style=\"stroke:#000000; stroke-width:4; stroke-opacity:1; fill:none\" points=\"\n",
       "  126.969,1486.45 126.969,47.2441 \n",
       "  \"/>\n",
       "<polyline clip-path=\"url(#clip9000)\" style=\"stroke:#000000; stroke-width:4; stroke-opacity:1; fill:none\" points=\"\n",
       "  330.623,1486.45 330.623,1469.18 \n",
       "  \"/>\n",
       "<polyline clip-path=\"url(#clip9000)\" style=\"stroke:#000000; stroke-width:4; stroke-opacity:1; fill:none\" points=\"\n",
       "  633.703,1486.45 633.703,1469.18 \n",
       "  \"/>\n",
       "<polyline clip-path=\"url(#clip9000)\" style=\"stroke:#000000; stroke-width:4; stroke-opacity:1; fill:none\" points=\"\n",
       "  936.782,1486.45 936.782,1469.18 \n",
       "  \"/>\n",
       "<polyline clip-path=\"url(#clip9000)\" style=\"stroke:#000000; stroke-width:4; stroke-opacity:1; fill:none\" points=\"\n",
       "  1239.86,1486.45 1239.86,1469.18 \n",
       "  \"/>\n",
       "<polyline clip-path=\"url(#clip9000)\" style=\"stroke:#000000; stroke-width:4; stroke-opacity:1; fill:none\" points=\"\n",
       "  1542.94,1486.45 1542.94,1469.18 \n",
       "  \"/>\n",
       "<polyline clip-path=\"url(#clip9000)\" style=\"stroke:#000000; stroke-width:4; stroke-opacity:1; fill:none\" points=\"\n",
       "  1846.02,1486.45 1846.02,1469.18 \n",
       "  \"/>\n",
       "<polyline clip-path=\"url(#clip9000)\" style=\"stroke:#000000; stroke-width:4; stroke-opacity:1; fill:none\" points=\"\n",
       "  2149.1,1486.45 2149.1,1469.18 \n",
       "  \"/>\n",
       "<polyline clip-path=\"url(#clip9000)\" style=\"stroke:#000000; stroke-width:4; stroke-opacity:1; fill:none\" points=\"\n",
       "  126.969,1445.72 153.678,1445.72 \n",
       "  \"/>\n",
       "<polyline clip-path=\"url(#clip9000)\" style=\"stroke:#000000; stroke-width:4; stroke-opacity:1; fill:none\" points=\"\n",
       "  126.969,1106.28 153.678,1106.28 \n",
       "  \"/>\n",
       "<polyline clip-path=\"url(#clip9000)\" style=\"stroke:#000000; stroke-width:4; stroke-opacity:1; fill:none\" points=\"\n",
       "  126.969,766.846 153.678,766.846 \n",
       "  \"/>\n",
       "<polyline clip-path=\"url(#clip9000)\" style=\"stroke:#000000; stroke-width:4; stroke-opacity:1; fill:none\" points=\"\n",
       "  126.969,427.411 153.678,427.411 \n",
       "  \"/>\n",
       "<polyline clip-path=\"url(#clip9000)\" style=\"stroke:#000000; stroke-width:4; stroke-opacity:1; fill:none\" points=\"\n",
       "  126.969,87.9763 153.678,87.9763 \n",
       "  \"/>\n",
       "<path clip-path=\"url(#clip9000)\" d=\"M 0 0 M293.69 1525.04 L306.167 1525.04 L306.167 1528.83 L293.69 1528.83 L293.69 1525.04 Z\" fill=\"#000000\" fill-rule=\"evenodd\" fill-opacity=\"1\" /><path clip-path=\"url(#clip9000)\" d=\"M 0 0 M315.264 1535.98 L331.583 1535.98 L331.583 1539.92 L309.639 1539.92 L309.639 1535.98 Q312.301 1533.23 316.884 1528.6 Q321.491 1523.95 322.671 1522.61 Q324.917 1520.08 325.796 1518.35 Q326.699 1516.59 326.699 1514.9 Q326.699 1512.14 324.755 1510.41 Q322.833 1508.67 319.731 1508.67 Q317.532 1508.67 315.079 1509.43 Q312.648 1510.2 309.87 1511.75 L309.87 1507.03 Q312.694 1505.89 315.148 1505.31 Q317.602 1504.73 319.639 1504.73 Q325.009 1504.73 328.204 1507.42 Q331.398 1510.11 331.398 1514.6 Q331.398 1516.73 330.588 1518.65 Q329.801 1520.54 327.694 1523.14 Q327.116 1523.81 324.014 1527.03 Q320.912 1530.22 315.264 1535.98 Z\" fill=\"#000000\" fill-rule=\"evenodd\" fill-opacity=\"1\" /><path clip-path=\"url(#clip9000)\" d=\"M 0 0 M336.653 1534.04 L341.537 1534.04 L341.537 1539.92 L336.653 1539.92 L336.653 1534.04 Z\" fill=\"#000000\" fill-rule=\"evenodd\" fill-opacity=\"1\" /><path clip-path=\"url(#clip9000)\" d=\"M 0 0 M346.653 1505.36 L365.009 1505.36 L365.009 1509.3 L350.935 1509.3 L350.935 1517.77 Q351.954 1517.42 352.972 1517.26 Q353.991 1517.07 355.009 1517.07 Q360.796 1517.07 364.176 1520.24 Q367.555 1523.42 367.555 1528.83 Q367.555 1534.41 364.083 1537.51 Q360.611 1540.59 354.291 1540.59 Q352.116 1540.59 349.847 1540.22 Q347.602 1539.85 345.194 1539.11 L345.194 1534.41 Q347.278 1535.54 349.5 1536.1 Q351.722 1536.66 354.199 1536.66 Q358.203 1536.66 360.541 1534.55 Q362.879 1532.44 362.879 1528.83 Q362.879 1525.22 360.541 1523.11 Q358.203 1521.01 354.199 1521.01 Q352.324 1521.01 350.449 1521.42 Q348.597 1521.84 346.653 1522.72 L346.653 1505.36 Z\" fill=\"#000000\" fill-rule=\"evenodd\" fill-opacity=\"1\" /><path clip-path=\"url(#clip9000)\" d=\"M 0 0 M596.272 1525.04 L608.749 1525.04 L608.749 1528.83 L596.272 1528.83 L596.272 1525.04 Z\" fill=\"#000000\" fill-rule=\"evenodd\" fill-opacity=\"1\" /><path clip-path=\"url(#clip9000)\" d=\"M 0 0 M617.846 1535.98 L634.165 1535.98 L634.165 1539.92 L612.221 1539.92 L612.221 1535.98 Q614.883 1533.23 619.466 1528.6 Q624.073 1523.95 625.253 1522.61 Q627.499 1520.08 628.378 1518.35 Q629.281 1516.59 629.281 1514.9 Q629.281 1512.14 627.337 1510.41 Q625.416 1508.67 622.314 1508.67 Q620.115 1508.67 617.661 1509.43 Q615.23 1510.2 612.453 1511.75 L612.453 1507.03 Q615.277 1505.89 617.73 1505.31 Q620.184 1504.73 622.221 1504.73 Q627.591 1504.73 630.786 1507.42 Q633.98 1510.11 633.98 1514.6 Q633.98 1516.73 633.17 1518.65 Q632.383 1520.54 630.277 1523.14 Q629.698 1523.81 626.596 1527.03 Q623.494 1530.22 617.846 1535.98 Z\" fill=\"#000000\" fill-rule=\"evenodd\" fill-opacity=\"1\" /><path clip-path=\"url(#clip9000)\" d=\"M 0 0 M639.235 1534.04 L644.119 1534.04 L644.119 1539.92 L639.235 1539.92 L639.235 1534.04 Z\" fill=\"#000000\" fill-rule=\"evenodd\" fill-opacity=\"1\" /><path clip-path=\"url(#clip9000)\" d=\"M 0 0 M659.188 1508.44 Q655.577 1508.44 653.749 1512 Q651.943 1515.55 651.943 1522.67 Q651.943 1529.78 653.749 1533.35 Q655.577 1536.89 659.188 1536.89 Q662.823 1536.89 664.628 1533.35 Q666.457 1529.78 666.457 1522.67 Q666.457 1515.55 664.628 1512 Q662.823 1508.44 659.188 1508.44 M659.188 1504.73 Q664.999 1504.73 668.054 1509.34 Q671.133 1513.92 671.133 1522.67 Q671.133 1531.4 668.054 1536.01 Q664.999 1540.59 659.188 1540.59 Q653.378 1540.59 650.3 1536.01 Q647.244 1531.4 647.244 1522.67 Q647.244 1513.92 650.3 1509.34 Q653.378 1504.73 659.188 1504.73 Z\" fill=\"#000000\" fill-rule=\"evenodd\" fill-opacity=\"1\" /><path clip-path=\"url(#clip9000)\" d=\"M 0 0 M899.665 1525.04 L912.141 1525.04 L912.141 1528.83 L899.665 1528.83 L899.665 1525.04 Z\" fill=\"#000000\" fill-rule=\"evenodd\" fill-opacity=\"1\" /><path clip-path=\"url(#clip9000)\" d=\"M 0 0 M918.021 1535.98 L925.66 1535.98 L925.66 1509.62 L917.35 1511.29 L917.35 1507.03 L925.614 1505.36 L930.289 1505.36 L930.289 1535.98 L937.928 1535.98 L937.928 1539.92 L918.021 1539.92 L918.021 1535.98 Z\" fill=\"#000000\" fill-rule=\"evenodd\" fill-opacity=\"1\" /><path clip-path=\"url(#clip9000)\" d=\"M 0 0 M942.998 1534.04 L947.882 1534.04 L947.882 1539.92 L942.998 1539.92 L942.998 1534.04 Z\" fill=\"#000000\" fill-rule=\"evenodd\" fill-opacity=\"1\" /><path clip-path=\"url(#clip9000)\" d=\"M 0 0 M952.998 1505.36 L971.354 1505.36 L971.354 1509.3 L957.28 1509.3 L957.28 1517.77 Q958.299 1517.42 959.317 1517.26 Q960.336 1517.07 961.354 1517.07 Q967.141 1517.07 970.521 1520.24 Q973.9 1523.42 973.9 1528.83 Q973.9 1534.41 970.428 1537.51 Q966.956 1540.59 960.636 1540.59 Q958.461 1540.59 956.192 1540.22 Q953.947 1539.85 951.539 1539.11 L951.539 1534.41 Q953.623 1535.54 955.845 1536.1 Q958.067 1536.66 960.544 1536.66 Q964.548 1536.66 966.886 1534.55 Q969.224 1532.44 969.224 1528.83 Q969.224 1525.22 966.886 1523.11 Q964.548 1521.01 960.544 1521.01 Q958.669 1521.01 956.794 1521.42 Q954.942 1521.84 952.998 1522.72 L952.998 1505.36 Z\" fill=\"#000000\" fill-rule=\"evenodd\" fill-opacity=\"1\" /><path clip-path=\"url(#clip9000)\" d=\"M 0 0 M1202.25 1525.04 L1214.72 1525.04 L1214.72 1528.83 L1202.25 1528.83 L1202.25 1525.04 Z\" fill=\"#000000\" fill-rule=\"evenodd\" fill-opacity=\"1\" /><path clip-path=\"url(#clip9000)\" d=\"M 0 0 M1220.6 1535.98 L1228.24 1535.98 L1228.24 1509.62 L1219.93 1511.29 L1219.93 1507.03 L1228.2 1505.36 L1232.87 1505.36 L1232.87 1535.98 L1240.51 1535.98 L1240.51 1539.92 L1220.6 1539.92 L1220.6 1535.98 Z\" fill=\"#000000\" fill-rule=\"evenodd\" fill-opacity=\"1\" /><path clip-path=\"url(#clip9000)\" d=\"M 0 0 M1245.58 1534.04 L1250.46 1534.04 L1250.46 1539.92 L1245.58 1539.92 L1245.58 1534.04 Z\" fill=\"#000000\" fill-rule=\"evenodd\" fill-opacity=\"1\" /><path clip-path=\"url(#clip9000)\" d=\"M 0 0 M1265.53 1508.44 Q1261.92 1508.44 1260.09 1512 Q1258.29 1515.55 1258.29 1522.67 Q1258.29 1529.78 1260.09 1533.35 Q1261.92 1536.89 1265.53 1536.89 Q1269.17 1536.89 1270.97 1533.35 Q1272.8 1529.78 1272.8 1522.67 Q1272.8 1515.55 1270.97 1512 Q1269.17 1508.44 1265.53 1508.44 M1265.53 1504.73 Q1271.34 1504.73 1274.4 1509.34 Q1277.48 1513.92 1277.48 1522.67 Q1277.48 1531.4 1274.4 1536.01 Q1271.34 1540.59 1265.53 1540.59 Q1259.72 1540.59 1256.64 1536.01 Q1253.59 1531.4 1253.59 1522.67 Q1253.59 1513.92 1256.64 1509.34 Q1259.72 1504.73 1265.53 1504.73 Z\" fill=\"#000000\" fill-rule=\"evenodd\" fill-opacity=\"1\" /><path clip-path=\"url(#clip9000)\" d=\"M 0 0 M1505.21 1525.04 L1517.69 1525.04 L1517.69 1528.83 L1505.21 1528.83 L1505.21 1525.04 Z\" fill=\"#000000\" fill-rule=\"evenodd\" fill-opacity=\"1\" /><path clip-path=\"url(#clip9000)\" d=\"M 0 0 M1532.76 1508.44 Q1529.15 1508.44 1527.32 1512 Q1525.51 1515.55 1525.51 1522.67 Q1525.51 1529.78 1527.32 1533.35 Q1529.15 1536.89 1532.76 1536.89 Q1536.39 1536.89 1538.2 1533.35 Q1540.03 1529.78 1540.03 1522.67 Q1540.03 1515.55 1538.2 1512 Q1536.39 1508.44 1532.76 1508.44 M1532.76 1504.73 Q1538.57 1504.73 1541.62 1509.34 Q1544.7 1513.92 1544.7 1522.67 Q1544.7 1531.4 1541.62 1536.01 Q1538.57 1540.59 1532.76 1540.59 Q1526.95 1540.59 1523.87 1536.01 Q1520.81 1531.4 1520.81 1522.67 Q1520.81 1513.92 1523.87 1509.34 Q1526.95 1504.73 1532.76 1504.73 Z\" fill=\"#000000\" fill-rule=\"evenodd\" fill-opacity=\"1\" /><path clip-path=\"url(#clip9000)\" d=\"M 0 0 M1549.77 1534.04 L1554.66 1534.04 L1554.66 1539.92 L1549.77 1539.92 L1549.77 1534.04 Z\" fill=\"#000000\" fill-rule=\"evenodd\" fill-opacity=\"1\" /><path clip-path=\"url(#clip9000)\" d=\"M 0 0 M1559.77 1505.36 L1578.13 1505.36 L1578.13 1509.3 L1564.05 1509.3 L1564.05 1517.77 Q1565.07 1517.42 1566.09 1517.26 Q1567.11 1517.07 1568.13 1517.07 Q1573.91 1517.07 1577.29 1520.24 Q1580.67 1523.42 1580.67 1528.83 Q1580.67 1534.41 1577.2 1537.51 Q1573.73 1540.59 1567.41 1540.59 Q1565.23 1540.59 1562.97 1540.22 Q1560.72 1539.85 1558.31 1539.11 L1558.31 1534.41 Q1560.4 1535.54 1562.62 1536.1 Q1564.84 1536.66 1567.32 1536.66 Q1571.32 1536.66 1573.66 1534.55 Q1576 1532.44 1576 1528.83 Q1576 1525.22 1573.66 1523.11 Q1571.32 1521.01 1567.32 1521.01 Q1565.44 1521.01 1563.57 1521.42 Q1561.72 1521.84 1559.77 1522.72 L1559.77 1505.36 Z\" fill=\"#000000\" fill-rule=\"evenodd\" fill-opacity=\"1\" /><path clip-path=\"url(#clip9000)\" d=\"M 0 0 M1827.54 1508.44 Q1823.93 1508.44 1822.1 1512 Q1820.29 1515.55 1820.29 1522.67 Q1820.29 1529.78 1822.1 1533.35 Q1823.93 1536.89 1827.54 1536.89 Q1831.17 1536.89 1832.98 1533.35 Q1834.81 1529.78 1834.81 1522.67 Q1834.81 1515.55 1832.98 1512 Q1831.17 1508.44 1827.54 1508.44 M1827.54 1504.73 Q1833.35 1504.73 1836.4 1509.34 Q1839.48 1513.92 1839.48 1522.67 Q1839.48 1531.4 1836.4 1536.01 Q1833.35 1540.59 1827.54 1540.59 Q1821.73 1540.59 1818.65 1536.01 Q1815.59 1531.4 1815.59 1522.67 Q1815.59 1513.92 1818.65 1509.34 Q1821.73 1504.73 1827.54 1504.73 Z\" fill=\"#000000\" fill-rule=\"evenodd\" fill-opacity=\"1\" /><path clip-path=\"url(#clip9000)\" d=\"M 0 0 M1844.55 1534.04 L1849.44 1534.04 L1849.44 1539.92 L1844.55 1539.92 L1844.55 1534.04 Z\" fill=\"#000000\" fill-rule=\"evenodd\" fill-opacity=\"1\" /><path clip-path=\"url(#clip9000)\" d=\"M 0 0 M1864.51 1508.44 Q1860.89 1508.44 1859.07 1512 Q1857.26 1515.55 1857.26 1522.67 Q1857.26 1529.78 1859.07 1533.35 Q1860.89 1536.89 1864.51 1536.89 Q1868.14 1536.89 1869.95 1533.35 Q1871.77 1529.78 1871.77 1522.67 Q1871.77 1515.55 1869.95 1512 Q1868.14 1508.44 1864.51 1508.44 M1864.51 1504.73 Q1870.32 1504.73 1873.37 1509.34 Q1876.45 1513.92 1876.45 1522.67 Q1876.45 1531.4 1873.37 1536.01 Q1870.32 1540.59 1864.51 1540.59 Q1858.7 1540.59 1855.62 1536.01 Q1852.56 1531.4 1852.56 1522.67 Q1852.56 1513.92 1855.62 1509.34 Q1858.7 1504.73 1864.51 1504.73 Z\" fill=\"#000000\" fill-rule=\"evenodd\" fill-opacity=\"1\" /><path clip-path=\"url(#clip9000)\" d=\"M 0 0 M2131.12 1508.44 Q2127.5 1508.44 2125.68 1512 Q2123.87 1515.55 2123.87 1522.67 Q2123.87 1529.78 2125.68 1533.35 Q2127.5 1536.89 2131.12 1536.89 Q2134.75 1536.89 2136.56 1533.35 Q2138.38 1529.78 2138.38 1522.67 Q2138.38 1515.55 2136.56 1512 Q2134.75 1508.44 2131.12 1508.44 M2131.12 1504.73 Q2136.93 1504.73 2139.98 1509.34 Q2143.06 1513.92 2143.06 1522.67 Q2143.06 1531.4 2139.98 1536.01 Q2136.93 1540.59 2131.12 1540.59 Q2125.31 1540.59 2122.23 1536.01 Q2119.17 1531.4 2119.17 1522.67 Q2119.17 1513.92 2122.23 1509.34 Q2125.31 1504.73 2131.12 1504.73 Z\" fill=\"#000000\" fill-rule=\"evenodd\" fill-opacity=\"1\" /><path clip-path=\"url(#clip9000)\" d=\"M 0 0 M2148.13 1534.04 L2153.01 1534.04 L2153.01 1539.92 L2148.13 1539.92 L2148.13 1534.04 Z\" fill=\"#000000\" fill-rule=\"evenodd\" fill-opacity=\"1\" /><path clip-path=\"url(#clip9000)\" d=\"M 0 0 M2158.13 1505.36 L2176.49 1505.36 L2176.49 1509.3 L2162.41 1509.3 L2162.41 1517.77 Q2163.43 1517.42 2164.45 1517.26 Q2165.47 1517.07 2166.49 1517.07 Q2172.27 1517.07 2175.65 1520.24 Q2179.03 1523.42 2179.03 1528.83 Q2179.03 1534.41 2175.56 1537.51 Q2172.09 1540.59 2165.77 1540.59 Q2163.59 1540.59 2161.32 1540.22 Q2159.08 1539.85 2156.67 1539.11 L2156.67 1534.41 Q2158.75 1535.54 2160.98 1536.1 Q2163.2 1536.66 2165.68 1536.66 Q2169.68 1536.66 2172.02 1534.55 Q2174.36 1532.44 2174.36 1528.83 Q2174.36 1525.22 2172.02 1523.11 Q2169.68 1521.01 2165.68 1521.01 Q2163.8 1521.01 2161.93 1521.42 Q2160.07 1521.84 2158.13 1522.72 L2158.13 1505.36 Z\" fill=\"#000000\" fill-rule=\"evenodd\" fill-opacity=\"1\" /><path clip-path=\"url(#clip9000)\" d=\"M 0 0 M62.9921 1448.11 L75.4689 1448.11 L75.4689 1451.91 L62.9921 1451.91 L62.9921 1448.11 Z\" fill=\"#000000\" fill-rule=\"evenodd\" fill-opacity=\"1\" /><path clip-path=\"url(#clip9000)\" d=\"M 0 0 M93.3855 1432.51 L81.58 1450.96 L93.3855 1450.96 L93.3855 1432.51 M92.1586 1428.44 L98.0382 1428.44 L98.0382 1450.96 L102.969 1450.96 L102.969 1454.85 L98.0382 1454.85 L98.0382 1463 L93.3855 1463 L93.3855 1454.85 L77.7837 1454.85 L77.7837 1450.33 L92.1586 1428.44 Z\" fill=\"#000000\" fill-rule=\"evenodd\" fill-opacity=\"1\" /><path clip-path=\"url(#clip9000)\" d=\"M 0 0 M64.1264 1108.68 L76.6032 1108.68 L76.6032 1112.47 L64.1264 1112.47 L64.1264 1108.68 Z\" fill=\"#000000\" fill-rule=\"evenodd\" fill-opacity=\"1\" /><path clip-path=\"url(#clip9000)\" d=\"M 0 0 M95.8392 1104.93 Q99.1956 1105.64 101.071 1107.91 Q102.969 1110.18 102.969 1113.51 Q102.969 1118.63 99.4503 1121.43 Q95.9318 1124.23 89.4503 1124.23 Q87.2744 1124.23 84.9596 1123.79 Q82.6679 1123.38 80.2143 1122.52 L80.2143 1118.01 Q82.1587 1119.14 84.4735 1119.72 Q86.7883 1120.3 89.3114 1120.3 Q93.7096 1120.3 96.0012 1118.56 Q98.316 1116.82 98.316 1113.51 Q98.316 1110.46 96.1632 1108.75 Q94.0336 1107.01 90.2142 1107.01 L86.1864 1107.01 L86.1864 1103.17 L90.3994 1103.17 Q93.8484 1103.17 95.6771 1101.8 Q97.5058 1100.41 97.5058 1097.82 Q97.5058 1095.16 95.6077 1093.75 Q93.7327 1092.31 90.2142 1092.31 Q88.2929 1092.31 86.0939 1092.73 Q83.8948 1093.14 81.2559 1094.02 L81.2559 1089.86 Q83.9179 1089.12 86.2327 1088.75 Q88.5707 1088.38 90.6309 1088.38 Q95.9549 1088.38 99.0567 1090.81 Q102.159 1093.21 102.159 1097.33 Q102.159 1100.2 100.515 1102.2 Q98.8716 1104.16 95.8392 1104.93 Z\" fill=\"#000000\" fill-rule=\"evenodd\" fill-opacity=\"1\" /><path clip-path=\"url(#clip9000)\" d=\"M 0 0 M65.0754 769.242 L77.5522 769.242 L77.5522 773.038 L65.0754 773.038 L65.0754 769.242 Z\" fill=\"#000000\" fill-rule=\"evenodd\" fill-opacity=\"1\" /><path clip-path=\"url(#clip9000)\" d=\"M 0 0 M86.6494 780.191 L102.969 780.191 L102.969 784.126 L81.0244 784.126 L81.0244 780.191 Q83.6865 777.436 88.2698 772.807 Q92.8762 768.154 94.0568 766.811 Q96.3021 764.288 97.1818 762.552 Q98.0845 760.793 98.0845 759.103 Q98.0845 756.348 96.1401 754.612 Q94.2188 752.876 91.117 752.876 Q88.9179 752.876 86.4642 753.64 Q84.0337 754.404 81.2559 755.955 L81.2559 751.233 Q84.08 750.098 86.5337 749.52 Q88.9874 748.941 91.0244 748.941 Q96.3947 748.941 99.5892 751.626 Q102.784 754.311 102.784 758.802 Q102.784 760.932 101.973 762.853 Q101.186 764.751 99.0799 767.344 Q98.5012 768.015 95.3994 771.233 Q92.2975 774.427 86.6494 780.191 Z\" fill=\"#000000\" fill-rule=\"evenodd\" fill-opacity=\"1\" /><path clip-path=\"url(#clip9000)\" d=\"M 0 0 M64.7051 429.807 L77.1819 429.807 L77.1819 433.603 L64.7051 433.603 L64.7051 429.807 Z\" fill=\"#000000\" fill-rule=\"evenodd\" fill-opacity=\"1\" /><path clip-path=\"url(#clip9000)\" d=\"M 0 0 M83.0615 440.756 L90.7003 440.756 L90.7003 414.39 L82.3902 416.057 L82.3902 411.798 L90.654 410.131 L95.3299 410.131 L95.3299 440.756 L102.969 440.756 L102.969 444.691 L83.0615 444.691 L83.0615 440.756 Z\" fill=\"#000000\" fill-rule=\"evenodd\" fill-opacity=\"1\" /><path clip-path=\"url(#clip9000)\" d=\"M 0 0 M91.0244 73.775 Q87.4133 73.775 85.5846 77.3398 Q83.7791 80.8814 83.7791 88.011 Q83.7791 95.1174 85.5846 98.6822 Q87.4133 102.224 91.0244 102.224 Q94.6586 102.224 96.4642 98.6822 Q98.2929 95.1174 98.2929 88.011 Q98.2929 80.8814 96.4642 77.3398 Q94.6586 73.775 91.0244 73.775 M91.0244 70.0713 Q96.8345 70.0713 99.8901 74.6777 Q102.969 79.261 102.969 88.011 Q102.969 96.7378 99.8901 101.344 Q96.8345 105.928 91.0244 105.928 Q85.2142 105.928 82.1355 101.344 Q79.08 96.7378 79.08 88.011 Q79.08 79.261 82.1355 74.6777 Q85.2142 70.0713 91.0244 70.0713 Z\" fill=\"#000000\" fill-rule=\"evenodd\" fill-opacity=\"1\" /><polyline clip-path=\"url(#clip9002)\" style=\"stroke:#009af9; stroke-width:4; stroke-opacity:1; fill:none\" points=\"\n",
       "  2289.76,87.9763 1846.02,1445.72 189.963,87.9763 \n",
       "  \"/>\n",
       "<path clip-path=\"url(#clip9000)\" d=\"\n",
       "M1989.74 251.724 L2280.76 251.724 L2280.76 130.764 L1989.74 130.764  Z\n",
       "  \" fill=\"#ffffff\" fill-rule=\"evenodd\" fill-opacity=\"1\"/>\n",
       "<polyline clip-path=\"url(#clip9000)\" style=\"stroke:#000000; stroke-width:4; stroke-opacity:1; fill:none\" points=\"\n",
       "  1989.74,251.724 2280.76,251.724 2280.76,130.764 1989.74,130.764 1989.74,251.724 \n",
       "  \"/>\n",
       "<polyline clip-path=\"url(#clip9000)\" style=\"stroke:#009af9; stroke-width:4; stroke-opacity:1; fill:none\" points=\"\n",
       "  2013.74,191.244 2157.74,191.244 \n",
       "  \"/>\n",
       "<path clip-path=\"url(#clip9000)\" d=\"M 0 0 M2195.58 210.931 Q2193.77 215.561 2192.06 216.973 Q2190.35 218.385 2187.48 218.385 L2184.08 218.385 L2184.08 214.82 L2186.58 214.82 Q2188.33 214.82 2189.31 213.987 Q2190.28 213.154 2191.46 210.052 L2192.22 208.107 L2181.74 182.598 L2186.25 182.598 L2194.35 202.876 L2202.46 182.598 L2206.97 182.598 L2195.58 210.931 Z\" fill=\"#000000\" fill-rule=\"evenodd\" fill-opacity=\"1\" /><path clip-path=\"url(#clip9000)\" d=\"M 0 0 M2212.85 204.589 L2220.49 204.589 L2220.49 178.223 L2212.18 179.89 L2212.18 175.631 L2220.44 173.964 L2225.12 173.964 L2225.12 204.589 L2232.76 204.589 L2232.76 208.524 L2212.85 208.524 L2212.85 204.589 Z\" fill=\"#000000\" fill-rule=\"evenodd\" fill-opacity=\"1\" /></svg>\n"
      ]
     },
     "execution_count": 128,
     "metadata": {},
     "output_type": "execute_result"
    }
   ],
   "source": [
    "# quadratic equation fun-ness!\n",
    "using Plots\n",
    "quad(a,b,c) = [(-b+√(b^2-4a*c))/(2a), \n",
    "               0,\n",
    "               (-b-√(b^2-4a*c))/(2a)]\n",
    "fn(x) = 2x^2 + 4x - 4\n",
    "x = quad(2,4,-4)\n",
    "y = [fn(y[1]), fn(y[2]), fn(y[3])]\n",
    "plot(x, y)"
   ]
  },
  {
   "cell_type": "markdown",
   "metadata": {},
   "source": [
    "### Goodbye Classes!\n",
    "forget classes... Embrace Structs and Multiple Dispatch for Composable Methods.\n",
    "https://docs.julialang.org/en/v1/manual/types/"
   ]
  },
  {
   "cell_type": "code",
   "execution_count": 146,
   "metadata": {},
   "outputs": [
    {
     "data": {
      "text/plain": [
       "Player(\"Billy Bob II\", 0.0, 3.54, 24.0)"
      ]
     },
     "execution_count": 146,
     "metadata": {},
     "output_type": "execute_result"
    }
   ],
   "source": [
    "struct Player\n",
    "    name::String\n",
    "    x::Float64\n",
    "    y::Float64\n",
    "    z::Float64\n",
    "end\n",
    "\n",
    "player = Player(\"Billy Bob II\", 0, 3.54, 24)"
   ]
  },
  {
   "cell_type": "code",
   "execution_count": 141,
   "metadata": {},
   "outputs": [
    {
     "data": {
      "text/plain": [
       "\"Billy Bob II\""
      ]
     },
     "execution_count": 141,
     "metadata": {},
     "output_type": "execute_result"
    }
   ],
   "source": [
    "player.name"
   ]
  },
  {
   "cell_type": "code",
   "execution_count": 142,
   "metadata": {},
   "outputs": [
    {
     "ename": "ErrorException",
     "evalue": "setfield! immutable struct of type Player cannot be changed",
     "output_type": "error",
     "traceback": [
      "setfield! immutable struct of type Player cannot be changed",
      "",
      "Stacktrace:",
      " [1] setproperty!(::Player, ::Symbol, ::String) at .\\Base.jl:34",
      " [2] top-level scope at In[142]:1"
     ]
    }
   ],
   "source": [
    "player.name = \"DumbBot\""
   ]
  },
  {
   "cell_type": "code",
   "execution_count": 147,
   "metadata": {},
   "outputs": [
    {
     "data": {
      "text/plain": [
       "Bot(\"Dumb\", 1.0, 0.0, 1.0)"
      ]
     },
     "execution_count": 147,
     "metadata": {},
     "output_type": "execute_result"
    }
   ],
   "source": [
    "mutable struct Bot\n",
    "    name::String\n",
    "    x::Float64\n",
    "    y::Float64\n",
    "    z::Float64\n",
    "end\n",
    "\n",
    "bot = Bot(\"Dumb\", 0, 0, 1)\n",
    "bot.x += 1\n",
    "bot"
   ]
  },
  {
   "cell_type": "markdown",
   "metadata": {},
   "source": [
    "# Cool Projects"
   ]
  },
  {
   "cell_type": "markdown",
   "metadata": {},
   "source": [
    "- https://julialang.org/\n",
    "- plots\n",
    "    - http://docs.juliaplots.org/latest/generated/gr/\n",
    "    - http://docs.juliaplots.org/latest/\n",
    "- faster then pandas, liked by pydata \n",
    "    - https://juliadb.org/\n",
    "    - https://github.com/JuliaData/JuliaDB.jl/blob/master/docs/src/tutorial.md\n",
    "- databases, https://github.com/JuliaDatabases\n",
    "    - https://felipenoris.github.io/Mongoc.jl/stable/tutorial/\n",
    "    - https://github.com/JuliaDatabases/Redis.jl\n",
    "- julia from python, https://pyjulia.readthedocs.io/en/latest/usage.html#high-level-interface\n",
    "- calculus, https://docs.sciml.ai/v5.0.0/tutorials/ode_example.html#Example-2:-Solving-Systems-of-Equations-1\n",
    "- flux for ai, https://fluxml.ai/\n",
    "    - https://fluxml.ai/experiments/mnist/\n",
    "- chemiformatics, https://github.com/svaksha/Julia.jl/blob/master/Chemistry.md\n",
    "- astronomony, https://github.com/JuliaAstro/astrolib.jl\n",
    "- direct GPU support with CUDA, https://juliagpu.gitlab.io/CUDA.jl/usage/overview/#UsageOverview-1\n",
    "- parallelism with composable threads, https://julialang.org/blog/2019/07/multithreading/\n",
    "- web frameworks... cool? (not as cool as rocket.rs), https://genieframework.com/ \n",
    "- julia + jupyter online, https://www.juliabox.com/"
   ]
  },
  {
   "cell_type": "code",
   "execution_count": null,
   "metadata": {},
   "outputs": [],
   "source": [
    "\n",
    "\n",
    "\n",
    "\n",
    "\n",
    "\n",
    "\n",
    "\n",
    "\n",
    "\n",
    "\n",
    "\n",
    "\n",
    "\n",
    "\n",
    "\n",
    "\n",
    "\n",
    "\n",
    "\n",
    "\n",
    "\n"
   ]
  },
  {
   "cell_type": "markdown",
   "metadata": {},
   "source": [
    "# JULIAS NUMBER 1 ISSUE\n",
    "\n",
    "# INDEXING STARTS @ 1!!!!! >=O\n",
    "so lets wrap up and go home... every good computer scientist knows indexing starts at 1... because computers are first class citizens..."
   ]
  }
 ],
 "metadata": {
  "kernelspec": {
   "display_name": "Julia 1.4.1",
   "language": "julia",
   "name": "julia-1.4"
  },
  "language_info": {
   "file_extension": ".jl",
   "mimetype": "application/julia",
   "name": "julia",
   "version": "1.4.1"
  }
 },
 "nbformat": 4,
 "nbformat_minor": 4
}
