{
 "cells": [
  {
   "cell_type": "markdown",
   "metadata": {},
   "source": [
    "![banner](banner.png)\n",
    "\n",
    "<h1 align=\"center\">\n",
    "An Introduction to Julia\n",
    "</h1>\n",
    "<h5 align=\"center\">\n",
    "Author: <i>Robby Boney</i>  |\n",
    "Vol: 1 |\n",
    "Iss: 2\n",
    "</h5>\n",
    "<h5 align=\"center\">\n",
    "    Other Pages: <a href=\"https://github.com/HarmonicHemispheres/src_box/tree/master/vol-1/issue-2/setup.md\">Setup and Install</a>\n",
    "</h5>\n",
    "<hr>\n",
    "<br>"
   ]
  },
  {
   "cell_type": "markdown",
   "metadata": {},
   "source": [
    "# What is Julia?\n",
    "\n",
    "> **Julia is a high-level, high-performance, dynamic programming language. While it is a general purpose language and can be used to write any application, many of its features are well-suited for high-performance numerical analysis and computational science.** <br> ~ https://en.wikipedia.org/wiki/Julia_(programming_language)\n",
    "\n",
    "> **Julia in a Nutshell: Julia is Fast compiling with LLVM, dynamically & optionally typed, open source, high level syntax, general purpose** <Br> ~ https://julialang.org/"
   ]
  },
  {
   "cell_type": "markdown",
   "metadata": {},
   "source": [
    "# Why Another Language...?\n",
    "- [near C Speed out of the box](https://julialang.org/benchmarks/)\n",
    "- Solves the two language problem\n",
    "- intuitive for technical computing (math, science, data, \"AI\")\n",
    "- opt in type system\n",
    "- first class support for parallel computing\n",
    "- composable with multiple dispatch for powerful code organization (particularly useful for mathematical operations)\n",
    "- first class support for math functions with syntax and unicode characters\n",
    "\n",
    "\n",
    "> _To read more about the original reasoning behind julia, check out the [original paper](https://arxiv.org/pdf/1209.5145.pdf) published from MIT in 2012._"
   ]
  },
  {
   "cell_type": "markdown",
   "metadata": {},
   "source": [
    "# Julia's Status Today?\n",
    "Over 13Million Downloads to date and growing. Looking at the top packages on `julia observer` and the research page on julia's website, it can be seen that julia is supported by major groups and has many AI and data packages at the top of the popularity charts for packages.\n",
    "\n",
    "- https://juliaobserver.com/\n",
    "- https://julialang.org/research/"
   ]
  },
  {
   "cell_type": "markdown",
   "metadata": {},
   "source": [
    "# Quick Syntax Overview ([cheat sheet](https://juliadocs.github.io/Julia-Cheat-Sheet/))"
   ]
  },
  {
   "cell_type": "code",
   "execution_count": 1,
   "metadata": {},
   "outputs": [],
   "source": [
    "# just some ol comments"
   ]
  },
  {
   "cell_type": "code",
   "execution_count": 2,
   "metadata": {},
   "outputs": [
    {
     "data": {
      "text/plain": [
       "19"
      ]
     },
     "execution_count": 2,
     "metadata": {},
     "output_type": "execute_result"
    }
   ],
   "source": [
    "# numbers and things\n",
    "4 + 3 * 5"
   ]
  },
  {
   "cell_type": "code",
   "execution_count": 3,
   "metadata": {},
   "outputs": [
    {
     "data": {
      "text/plain": [
       "127"
      ]
     },
     "execution_count": 3,
     "metadata": {},
     "output_type": "execute_result"
    }
   ],
   "source": [
    "# functions are neat... and mathematical\n",
    "f(x)::Int8 = 16x + 15\n",
    "f(7)"
   ]
  },
  {
   "cell_type": "code",
   "execution_count": 4,
   "metadata": {},
   "outputs": [
    {
     "name": "stdout",
     "output_type": "stream",
     "text": [
      "1 1 2 3 5 8 13 21 34 55 89 144 233 377 610 987 1597 2584 4181 6765 10946 17711 28657 46368 75025 121393 196418 317811 514229 832040 1346269 2178309 3524578 5702887 9227465 14930352 24157817 39088169 63245986 102334155 165580141 267914296 433494437 701408733 1134903170 "
     ]
    }
   ],
   "source": [
    "# bigger functions are a thing...\n",
    "function fib(n, i=0)\n",
    "    if i >= n-2\n",
    "        return 1\n",
    "    else\n",
    "        return fib(n, i+1) + fib(n, i+2)\n",
    "    end\n",
    "end\n",
    "\n",
    "# loops are useful\n",
    "for i = 1:45\n",
    "    r = fib(i)\n",
    "    print(\"$r \")\n",
    "end"
   ]
  },
  {
   "cell_type": "markdown",
   "metadata": {},
   "source": [
    "### MATH CHARACTER SUPPORT.... WOT!?!?!?!\n",
    "https://docs.julialang.org/en/v1/manual/unicode-input/\n",
    "\n",
    "S1. type completion sequence... \\sqrt\n",
    "\n",
    "S2. hit tab..."
   ]
  },
  {
   "cell_type": "code",
   "execution_count": 5,
   "metadata": {},
   "outputs": [
    {
     "data": {
      "text/plain": [
       "2.23606797749979"
      ]
     },
     "execution_count": 5,
     "metadata": {},
     "output_type": "execute_result"
    }
   ],
   "source": [
    "√(5 * 1)"
   ]
  },
  {
   "cell_type": "markdown",
   "metadata": {},
   "source": [
    "### Builtin Plotting"
   ]
  },
  {
   "cell_type": "code",
   "execution_count": 6,
   "metadata": {},
   "outputs": [],
   "source": [
    "using Plots"
   ]
  },
  {
   "cell_type": "code",
   "execution_count": 7,
   "metadata": {},
   "outputs": [
    {
     "data": {
      "image/svg+xml": [
       "<?xml version=\"1.0\" encoding=\"utf-8\"?>\n",
       "<svg xmlns=\"http://www.w3.org/2000/svg\" xmlns:xlink=\"http://www.w3.org/1999/xlink\" width=\"600\" height=\"400\" viewBox=\"0 0 2400 1600\">\n",
       "<defs>\n",
       "  <clipPath id=\"clip7500\">\n",
       "    <rect x=\"0\" y=\"0\" width=\"2400\" height=\"1600\"/>\n",
       "  </clipPath>\n",
       "</defs>\n",
       "<path clip-path=\"url(#clip7500)\" d=\"\n",
       "M0 1600 L2400 1600 L2400 0 L0 0  Z\n",
       "  \" fill=\"#ffffff\" fill-rule=\"evenodd\" fill-opacity=\"1\"/>\n",
       "<defs>\n",
       "  <clipPath id=\"clip7501\">\n",
       "    <rect x=\"480\" y=\"0\" width=\"1681\" height=\"1600\"/>\n",
       "  </clipPath>\n",
       "</defs>\n",
       "<path clip-path=\"url(#clip7500)\" d=\"\n",
       "M126.969 1486.45 L2352.76 1486.45 L2352.76 47.2441 L126.969 47.2441  Z\n",
       "  \" fill=\"#ffffff\" fill-rule=\"evenodd\" fill-opacity=\"1\"/>\n",
       "<defs>\n",
       "  <clipPath id=\"clip7502\">\n",
       "    <rect x=\"126\" y=\"47\" width=\"2227\" height=\"1440\"/>\n",
       "  </clipPath>\n",
       "</defs>\n",
       "<polyline clip-path=\"url(#clip7502)\" style=\"stroke:#000000; stroke-width:2; stroke-opacity:0.1; fill:none\" points=\"\n",
       "  382.623,1486.45 382.623,47.2441 \n",
       "  \"/>\n",
       "<polyline clip-path=\"url(#clip7502)\" style=\"stroke:#000000; stroke-width:2; stroke-opacity:0.1; fill:none\" points=\"\n",
       "  811.243,1486.45 811.243,47.2441 \n",
       "  \"/>\n",
       "<polyline clip-path=\"url(#clip7502)\" style=\"stroke:#000000; stroke-width:2; stroke-opacity:0.1; fill:none\" points=\"\n",
       "  1239.86,1486.45 1239.86,47.2441 \n",
       "  \"/>\n",
       "<polyline clip-path=\"url(#clip7502)\" style=\"stroke:#000000; stroke-width:2; stroke-opacity:0.1; fill:none\" points=\"\n",
       "  1668.48,1486.45 1668.48,47.2441 \n",
       "  \"/>\n",
       "<polyline clip-path=\"url(#clip7502)\" style=\"stroke:#000000; stroke-width:2; stroke-opacity:0.1; fill:none\" points=\"\n",
       "  2097.1,1486.45 2097.1,47.2441 \n",
       "  \"/>\n",
       "<polyline clip-path=\"url(#clip7502)\" style=\"stroke:#000000; stroke-width:2; stroke-opacity:0.1; fill:none\" points=\"\n",
       "  126.969,1445.72 2352.76,1445.72 \n",
       "  \"/>\n",
       "<polyline clip-path=\"url(#clip7502)\" style=\"stroke:#000000; stroke-width:2; stroke-opacity:0.1; fill:none\" points=\"\n",
       "  126.969,1219.43 2352.76,1219.43 \n",
       "  \"/>\n",
       "<polyline clip-path=\"url(#clip7502)\" style=\"stroke:#000000; stroke-width:2; stroke-opacity:0.1; fill:none\" points=\"\n",
       "  126.969,993.136 2352.76,993.136 \n",
       "  \"/>\n",
       "<polyline clip-path=\"url(#clip7502)\" style=\"stroke:#000000; stroke-width:2; stroke-opacity:0.1; fill:none\" points=\"\n",
       "  126.969,766.846 2352.76,766.846 \n",
       "  \"/>\n",
       "<polyline clip-path=\"url(#clip7502)\" style=\"stroke:#000000; stroke-width:2; stroke-opacity:0.1; fill:none\" points=\"\n",
       "  126.969,540.556 2352.76,540.556 \n",
       "  \"/>\n",
       "<polyline clip-path=\"url(#clip7502)\" style=\"stroke:#000000; stroke-width:2; stroke-opacity:0.1; fill:none\" points=\"\n",
       "  126.969,314.266 2352.76,314.266 \n",
       "  \"/>\n",
       "<polyline clip-path=\"url(#clip7502)\" style=\"stroke:#000000; stroke-width:2; stroke-opacity:0.1; fill:none\" points=\"\n",
       "  126.969,87.9763 2352.76,87.9763 \n",
       "  \"/>\n",
       "<polyline clip-path=\"url(#clip7500)\" style=\"stroke:#000000; stroke-width:4; stroke-opacity:1; fill:none\" points=\"\n",
       "  126.969,1486.45 2352.76,1486.45 \n",
       "  \"/>\n",
       "<polyline clip-path=\"url(#clip7500)\" style=\"stroke:#000000; stroke-width:4; stroke-opacity:1; fill:none\" points=\"\n",
       "  126.969,1486.45 126.969,47.2441 \n",
       "  \"/>\n",
       "<polyline clip-path=\"url(#clip7500)\" style=\"stroke:#000000; stroke-width:4; stroke-opacity:1; fill:none\" points=\"\n",
       "  382.623,1486.45 382.623,1469.18 \n",
       "  \"/>\n",
       "<polyline clip-path=\"url(#clip7500)\" style=\"stroke:#000000; stroke-width:4; stroke-opacity:1; fill:none\" points=\"\n",
       "  811.243,1486.45 811.243,1469.18 \n",
       "  \"/>\n",
       "<polyline clip-path=\"url(#clip7500)\" style=\"stroke:#000000; stroke-width:4; stroke-opacity:1; fill:none\" points=\"\n",
       "  1239.86,1486.45 1239.86,1469.18 \n",
       "  \"/>\n",
       "<polyline clip-path=\"url(#clip7500)\" style=\"stroke:#000000; stroke-width:4; stroke-opacity:1; fill:none\" points=\"\n",
       "  1668.48,1486.45 1668.48,1469.18 \n",
       "  \"/>\n",
       "<polyline clip-path=\"url(#clip7500)\" style=\"stroke:#000000; stroke-width:4; stroke-opacity:1; fill:none\" points=\"\n",
       "  2097.1,1486.45 2097.1,1469.18 \n",
       "  \"/>\n",
       "<polyline clip-path=\"url(#clip7500)\" style=\"stroke:#000000; stroke-width:4; stroke-opacity:1; fill:none\" points=\"\n",
       "  126.969,1445.72 153.678,1445.72 \n",
       "  \"/>\n",
       "<polyline clip-path=\"url(#clip7500)\" style=\"stroke:#000000; stroke-width:4; stroke-opacity:1; fill:none\" points=\"\n",
       "  126.969,1219.43 153.678,1219.43 \n",
       "  \"/>\n",
       "<polyline clip-path=\"url(#clip7500)\" style=\"stroke:#000000; stroke-width:4; stroke-opacity:1; fill:none\" points=\"\n",
       "  126.969,993.136 153.678,993.136 \n",
       "  \"/>\n",
       "<polyline clip-path=\"url(#clip7500)\" style=\"stroke:#000000; stroke-width:4; stroke-opacity:1; fill:none\" points=\"\n",
       "  126.969,766.846 153.678,766.846 \n",
       "  \"/>\n",
       "<polyline clip-path=\"url(#clip7500)\" style=\"stroke:#000000; stroke-width:4; stroke-opacity:1; fill:none\" points=\"\n",
       "  126.969,540.556 153.678,540.556 \n",
       "  \"/>\n",
       "<polyline clip-path=\"url(#clip7500)\" style=\"stroke:#000000; stroke-width:4; stroke-opacity:1; fill:none\" points=\"\n",
       "  126.969,314.266 153.678,314.266 \n",
       "  \"/>\n",
       "<polyline clip-path=\"url(#clip7500)\" style=\"stroke:#000000; stroke-width:4; stroke-opacity:1; fill:none\" points=\"\n",
       "  126.969,87.9763 153.678,87.9763 \n",
       "  \"/>\n",
       "<path clip-path=\"url(#clip7500)\" d=\"M 0 0 M363.676 1525.04 L376.153 1525.04 L376.153 1528.83 L363.676 1528.83 L363.676 1525.04 Z\" fill=\"#000000\" fill-rule=\"evenodd\" fill-opacity=\"1\" /><path clip-path=\"url(#clip7500)\" d=\"M 0 0 M385.25 1535.98 L401.57 1535.98 L401.57 1539.92 L379.625 1539.92 L379.625 1535.98 Q382.287 1533.23 386.871 1528.6 Q391.477 1523.95 392.658 1522.61 Q394.903 1520.08 395.783 1518.35 Q396.685 1516.59 396.685 1514.9 Q396.685 1512.14 394.741 1510.41 Q392.82 1508.67 389.718 1508.67 Q387.519 1508.67 385.065 1509.43 Q382.634 1510.2 379.857 1511.75 L379.857 1507.03 Q382.681 1505.89 385.134 1505.31 Q387.588 1504.73 389.625 1504.73 Q394.996 1504.73 398.19 1507.42 Q401.384 1510.11 401.384 1514.6 Q401.384 1516.73 400.574 1518.65 Q399.787 1520.54 397.681 1523.14 Q397.102 1523.81 394 1527.03 Q390.898 1530.22 385.25 1535.98 Z\" fill=\"#000000\" fill-rule=\"evenodd\" fill-opacity=\"1\" /><path clip-path=\"url(#clip7500)\" d=\"M 0 0 M792.111 1525.04 L804.588 1525.04 L804.588 1528.83 L792.111 1528.83 L792.111 1525.04 Z\" fill=\"#000000\" fill-rule=\"evenodd\" fill-opacity=\"1\" /><path clip-path=\"url(#clip7500)\" d=\"M 0 0 M810.467 1535.98 L818.106 1535.98 L818.106 1509.62 L809.796 1511.29 L809.796 1507.03 L818.06 1505.36 L822.736 1505.36 L822.736 1535.98 L830.374 1535.98 L830.374 1539.92 L810.467 1539.92 L810.467 1535.98 Z\" fill=\"#000000\" fill-rule=\"evenodd\" fill-opacity=\"1\" /><path clip-path=\"url(#clip7500)\" d=\"M 0 0 M1239.86 1508.44 Q1236.25 1508.44 1234.42 1512 Q1232.62 1515.55 1232.62 1522.67 Q1232.62 1529.78 1234.42 1533.35 Q1236.25 1536.89 1239.86 1536.89 Q1243.5 1536.89 1245.3 1533.35 Q1247.13 1529.78 1247.13 1522.67 Q1247.13 1515.55 1245.3 1512 Q1243.5 1508.44 1239.86 1508.44 M1239.86 1504.73 Q1245.67 1504.73 1248.73 1509.34 Q1251.81 1513.92 1251.81 1522.67 Q1251.81 1531.4 1248.73 1536.01 Q1245.67 1540.59 1239.86 1540.59 Q1234.05 1540.59 1230.97 1536.01 Q1227.92 1531.4 1227.92 1522.67 Q1227.92 1513.92 1230.97 1509.34 Q1234.05 1504.73 1239.86 1504.73 Z\" fill=\"#000000\" fill-rule=\"evenodd\" fill-opacity=\"1\" /><path clip-path=\"url(#clip7500)\" d=\"M 0 0 M1658.86 1535.98 L1666.5 1535.98 L1666.5 1509.62 L1658.19 1511.29 L1658.19 1507.03 L1666.46 1505.36 L1671.13 1505.36 L1671.13 1535.98 L1678.77 1535.98 L1678.77 1539.92 L1658.86 1539.92 L1658.86 1535.98 Z\" fill=\"#000000\" fill-rule=\"evenodd\" fill-opacity=\"1\" /><path clip-path=\"url(#clip7500)\" d=\"M 0 0 M2091.75 1535.98 L2108.07 1535.98 L2108.07 1539.92 L2086.13 1539.92 L2086.13 1535.98 Q2088.79 1533.23 2093.37 1528.6 Q2097.98 1523.95 2099.16 1522.61 Q2101.41 1520.08 2102.29 1518.35 Q2103.19 1516.59 2103.19 1514.9 Q2103.19 1512.14 2101.25 1510.41 Q2099.32 1508.67 2096.22 1508.67 Q2094.02 1508.67 2091.57 1509.43 Q2089.14 1510.2 2086.36 1511.75 L2086.36 1507.03 Q2089.19 1505.89 2091.64 1505.31 Q2094.09 1504.73 2096.13 1504.73 Q2101.5 1504.73 2104.69 1507.42 Q2107.89 1510.11 2107.89 1514.6 Q2107.89 1516.73 2107.08 1518.65 Q2106.29 1520.54 2104.19 1523.14 Q2103.61 1523.81 2100.5 1527.03 Q2097.4 1530.22 2091.75 1535.98 Z\" fill=\"#000000\" fill-rule=\"evenodd\" fill-opacity=\"1\" /><path clip-path=\"url(#clip7500)\" d=\"M 0 0 M63.3162 1448.11 L75.793 1448.11 L75.793 1451.91 L63.3162 1451.91 L63.3162 1448.11 Z\" fill=\"#000000\" fill-rule=\"evenodd\" fill-opacity=\"1\" /><path clip-path=\"url(#clip7500)\" d=\"M 0 0 M91.441 1443.85 Q88.2929 1443.85 86.4411 1446.01 Q84.6124 1448.16 84.6124 1451.91 Q84.6124 1455.63 86.4411 1457.81 Q88.2929 1459.96 91.441 1459.96 Q94.5892 1459.96 96.4179 1457.81 Q98.2697 1455.63 98.2697 1451.91 Q98.2697 1448.16 96.4179 1446.01 Q94.5892 1443.85 91.441 1443.85 M100.723 1429.2 L100.723 1433.46 Q98.9642 1432.63 97.1586 1432.19 Q95.3762 1431.75 93.617 1431.75 Q88.9874 1431.75 86.5337 1434.87 Q84.1031 1438 83.7559 1444.32 Q85.1216 1442.3 87.1818 1441.24 Q89.242 1440.15 91.7188 1440.15 Q96.9271 1440.15 99.9364 1443.32 Q102.969 1446.47 102.969 1451.91 Q102.969 1457.23 99.8206 1460.45 Q96.6725 1463.67 91.441 1463.67 Q85.4457 1463.67 82.2744 1459.08 Q79.1032 1454.48 79.1032 1445.75 Q79.1032 1437.56 82.992 1432.69 Q86.8809 1427.81 93.4318 1427.81 Q95.191 1427.81 96.9734 1428.16 Q98.779 1428.51 100.723 1429.2 Z\" fill=\"#000000\" fill-rule=\"evenodd\" fill-opacity=\"1\" /><path clip-path=\"url(#clip7500)\" d=\"M 0 0 M64.4736 1221.82 L76.9504 1221.82 L76.9504 1225.62 L64.4736 1225.62 L64.4736 1221.82 Z\" fill=\"#000000\" fill-rule=\"evenodd\" fill-opacity=\"1\" /><path clip-path=\"url(#clip7500)\" d=\"M 0 0 M82.0661 1202.15 L100.422 1202.15 L100.422 1206.08 L86.3485 1206.08 L86.3485 1214.55 Q87.367 1214.21 88.3855 1214.04 Q89.404 1213.86 90.4225 1213.86 Q96.2095 1213.86 99.5892 1217.03 Q102.969 1220.2 102.969 1225.62 Q102.969 1231.2 99.4966 1234.3 Q96.0244 1237.38 89.7049 1237.38 Q87.529 1237.38 85.2605 1237.01 Q83.0152 1236.64 80.6078 1235.9 L80.6078 1231.2 Q82.6911 1232.33 84.9133 1232.89 Q87.1355 1233.44 89.6124 1233.44 Q93.617 1233.44 95.9549 1231.34 Q98.2929 1229.23 98.2929 1225.62 Q98.2929 1222.01 95.9549 1219.9 Q93.617 1217.79 89.6124 1217.79 Q87.7374 1217.79 85.8624 1218.21 Q84.0105 1218.63 82.0661 1219.51 L82.0661 1202.15 Z\" fill=\"#000000\" fill-rule=\"evenodd\" fill-opacity=\"1\" /><path clip-path=\"url(#clip7500)\" d=\"M 0 0 M62.9921 995.532 L75.4689 995.532 L75.4689 999.328 L62.9921 999.328 L62.9921 995.532 Z\" fill=\"#000000\" fill-rule=\"evenodd\" fill-opacity=\"1\" /><path clip-path=\"url(#clip7500)\" d=\"M 0 0 M93.3855 979.93 L81.58 998.379 L93.3855 998.379 L93.3855 979.93 M92.1586 975.856 L98.0382 975.856 L98.0382 998.379 L102.969 998.379 L102.969 1002.27 L98.0382 1002.27 L98.0382 1010.42 L93.3855 1010.42 L93.3855 1002.27 L77.7837 1002.27 L77.7837 997.754 L92.1586 975.856 Z\" fill=\"#000000\" fill-rule=\"evenodd\" fill-opacity=\"1\" /><path clip-path=\"url(#clip7500)\" d=\"M 0 0 M64.1264 769.242 L76.6032 769.242 L76.6032 773.038 L64.1264 773.038 L64.1264 769.242 Z\" fill=\"#000000\" fill-rule=\"evenodd\" fill-opacity=\"1\" /><path clip-path=\"url(#clip7500)\" d=\"M 0 0 M95.8392 765.492 Q99.1956 766.209 101.071 768.478 Q102.969 770.746 102.969 774.08 Q102.969 779.195 99.4503 781.996 Q95.9318 784.797 89.4503 784.797 Q87.2744 784.797 84.9596 784.357 Q82.6679 783.941 80.2143 783.084 L80.2143 778.57 Q82.1587 779.705 84.4735 780.283 Q86.7883 780.862 89.3114 780.862 Q93.7096 780.862 96.0012 779.126 Q98.316 777.39 98.316 774.08 Q98.316 771.024 96.1632 769.311 Q94.0336 767.575 90.2142 767.575 L86.1864 767.575 L86.1864 763.733 L90.3994 763.733 Q93.8484 763.733 95.6771 762.367 Q97.5058 760.978 97.5058 758.385 Q97.5058 755.723 95.6077 754.311 Q93.7327 752.876 90.2142 752.876 Q88.2929 752.876 86.0939 753.293 Q83.8948 753.709 81.2559 754.589 L81.2559 750.422 Q83.9179 749.682 86.2327 749.311 Q88.5707 748.941 90.6309 748.941 Q95.9549 748.941 99.0567 751.372 Q102.159 753.779 102.159 757.899 Q102.159 760.77 100.515 762.76 Q98.8716 764.728 95.8392 765.492 Z\" fill=\"#000000\" fill-rule=\"evenodd\" fill-opacity=\"1\" /><path clip-path=\"url(#clip7500)\" d=\"M 0 0 M65.0754 542.952 L77.5522 542.952 L77.5522 546.748 L65.0754 546.748 L65.0754 542.952 Z\" fill=\"#000000\" fill-rule=\"evenodd\" fill-opacity=\"1\" /><path clip-path=\"url(#clip7500)\" d=\"M 0 0 M86.6494 553.901 L102.969 553.901 L102.969 557.836 L81.0244 557.836 L81.0244 553.901 Q83.6865 551.146 88.2698 546.517 Q92.8762 541.864 94.0568 540.521 Q96.3021 537.998 97.1818 536.262 Q98.0845 534.503 98.0845 532.813 Q98.0845 530.058 96.1401 528.322 Q94.2188 526.586 91.117 526.586 Q88.9179 526.586 86.4642 527.35 Q84.0337 528.114 81.2559 529.665 L81.2559 524.943 Q84.08 523.808 86.5337 523.23 Q88.9874 522.651 91.0244 522.651 Q96.3947 522.651 99.5892 525.336 Q102.784 528.021 102.784 532.512 Q102.784 534.642 101.973 536.563 Q101.186 538.461 99.0799 541.054 Q98.5012 541.725 95.3994 544.943 Q92.2975 548.137 86.6494 553.901 Z\" fill=\"#000000\" fill-rule=\"evenodd\" fill-opacity=\"1\" /><path clip-path=\"url(#clip7500)\" d=\"M 0 0 M64.7051 316.662 L77.1819 316.662 L77.1819 320.458 L64.7051 320.458 L64.7051 316.662 Z\" fill=\"#000000\" fill-rule=\"evenodd\" fill-opacity=\"1\" /><path clip-path=\"url(#clip7500)\" d=\"M 0 0 M83.0615 327.611 L90.7003 327.611 L90.7003 301.245 L82.3902 302.912 L82.3902 298.653 L90.654 296.986 L95.3299 296.986 L95.3299 327.611 L102.969 327.611 L102.969 331.546 L83.0615 331.546 L83.0615 327.611 Z\" fill=\"#000000\" fill-rule=\"evenodd\" fill-opacity=\"1\" /><path clip-path=\"url(#clip7500)\" d=\"M 0 0 M91.0244 73.775 Q87.4133 73.775 85.5846 77.3398 Q83.7791 80.8814 83.7791 88.011 Q83.7791 95.1174 85.5846 98.6822 Q87.4133 102.224 91.0244 102.224 Q94.6586 102.224 96.4642 98.6822 Q98.2929 95.1174 98.2929 88.011 Q98.2929 80.8814 96.4642 77.3398 Q94.6586 73.775 91.0244 73.775 M91.0244 70.0713 Q96.8345 70.0713 99.8901 74.6777 Q102.969 79.261 102.969 88.011 Q102.969 96.7378 99.8901 101.344 Q96.8345 105.928 91.0244 105.928 Q85.2142 105.928 82.1355 101.344 Q79.08 96.7378 79.08 88.011 Q79.08 79.261 82.1355 74.6777 Q85.2142 70.0713 91.0244 70.0713 Z\" fill=\"#000000\" fill-rule=\"evenodd\" fill-opacity=\"1\" /><polyline clip-path=\"url(#clip7502)\" style=\"stroke:#009af9; stroke-width:4; stroke-opacity:1; fill:none\" points=\"\n",
       "  2289.76,87.9763 1239.86,1445.72 189.963,87.9763 \n",
       "  \"/>\n",
       "<path clip-path=\"url(#clip7500)\" d=\"\n",
       "M1989.74 251.724 L2280.76 251.724 L2280.76 130.764 L1989.74 130.764  Z\n",
       "  \" fill=\"#ffffff\" fill-rule=\"evenodd\" fill-opacity=\"1\"/>\n",
       "<polyline clip-path=\"url(#clip7500)\" style=\"stroke:#000000; stroke-width:4; stroke-opacity:1; fill:none\" points=\"\n",
       "  1989.74,251.724 2280.76,251.724 2280.76,130.764 1989.74,130.764 1989.74,251.724 \n",
       "  \"/>\n",
       "<polyline clip-path=\"url(#clip7500)\" style=\"stroke:#009af9; stroke-width:4; stroke-opacity:1; fill:none\" points=\"\n",
       "  2013.74,191.244 2157.74,191.244 \n",
       "  \"/>\n",
       "<path clip-path=\"url(#clip7500)\" d=\"M 0 0 M2195.58 210.931 Q2193.77 215.561 2192.06 216.973 Q2190.35 218.385 2187.48 218.385 L2184.08 218.385 L2184.08 214.82 L2186.58 214.82 Q2188.33 214.82 2189.31 213.987 Q2190.28 213.154 2191.46 210.052 L2192.22 208.107 L2181.74 182.598 L2186.25 182.598 L2194.35 202.876 L2202.46 182.598 L2206.97 182.598 L2195.58 210.931 Z\" fill=\"#000000\" fill-rule=\"evenodd\" fill-opacity=\"1\" /><path clip-path=\"url(#clip7500)\" d=\"M 0 0 M2212.85 204.589 L2220.49 204.589 L2220.49 178.223 L2212.18 179.89 L2212.18 175.631 L2220.44 173.964 L2225.12 173.964 L2225.12 204.589 L2232.76 204.589 L2232.76 208.524 L2212.85 208.524 L2212.85 204.589 Z\" fill=\"#000000\" fill-rule=\"evenodd\" fill-opacity=\"1\" /></svg>\n"
      ]
     },
     "execution_count": 7,
     "metadata": {},
     "output_type": "execute_result"
    }
   ],
   "source": [
    "# quadratic equation fun-ness!\n",
    "quad(a,b,c) = [(-b+√(b^2-4a*c))/(2a), \n",
    "               0,\n",
    "               (-b-√(b^2-4a*c))/(2a)]\n",
    "fn(x) = x^2 - 6\n",
    "x = quad(1,0,-6)\n",
    "y = [fn(x[1]), fn(x[2]), fn(x[3])]\n",
    "plot(x, y)"
   ]
  },
  {
   "cell_type": "markdown",
   "metadata": {},
   "source": [
    "### Goodbye Classes!\n",
    "forget classes... Embrace Structs and Multiple Dispatch for Composable Methods.\n",
    "https://docs.julialang.org/en/v1/manual/types/"
   ]
  },
  {
   "cell_type": "code",
   "execution_count": 8,
   "metadata": {},
   "outputs": [
    {
     "data": {
      "text/plain": [
       "Player(\"Billy Bob II\", 0.0, 3.54, 24.0)"
      ]
     },
     "execution_count": 8,
     "metadata": {},
     "output_type": "execute_result"
    }
   ],
   "source": [
    "struct Player\n",
    "    name::String\n",
    "    x::Float64\n",
    "    y::Float64\n",
    "    z::Float64\n",
    "end\n",
    "\n",
    "player = Player(\"Billy Bob II\", 0, 3.54, 24)"
   ]
  },
  {
   "cell_type": "code",
   "execution_count": 9,
   "metadata": {},
   "outputs": [
    {
     "data": {
      "text/plain": [
       "\"Billy Bob II\""
      ]
     },
     "execution_count": 9,
     "metadata": {},
     "output_type": "execute_result"
    }
   ],
   "source": [
    "player.name"
   ]
  },
  {
   "cell_type": "code",
   "execution_count": 10,
   "metadata": {},
   "outputs": [
    {
     "ename": "ErrorException",
     "evalue": "setfield! immutable struct of type Player cannot be changed",
     "output_type": "error",
     "traceback": [
      "setfield! immutable struct of type Player cannot be changed",
      "",
      "Stacktrace:",
      " [1] setproperty!(::Player, ::Symbol, ::String) at .\\Base.jl:34",
      " [2] top-level scope at In[10]:1"
     ]
    }
   ],
   "source": [
    "player.name = \"DumbBot\""
   ]
  },
  {
   "cell_type": "code",
   "execution_count": 11,
   "metadata": {},
   "outputs": [
    {
     "data": {
      "text/plain": [
       "Bot(\"Dumb\", 1.0, 0.0, 1.0)"
      ]
     },
     "execution_count": 11,
     "metadata": {},
     "output_type": "execute_result"
    }
   ],
   "source": [
    "mutable struct Bot\n",
    "    name::String\n",
    "    x::Float64\n",
    "    y::Float64\n",
    "    z::Float64\n",
    "end\n",
    "\n",
    "bot = Bot(\"Dumb\", 0, 0, 1)\n",
    "bot.x += 1\n",
    "bot"
   ]
  },
  {
   "cell_type": "markdown",
   "metadata": {},
   "source": [
    "### [Powerful Metaprogramming](https://docs.julialang.org/en/v1/manual/metaprogramming/)\n",
    "metaprogramming is the use of language to manipulate itself or its behavior. This is typically seen through features like [operator overloading](https://docs.python.org/3/reference/datamodel.html) in Python, [macros](https://doc.rust-lang.org/book/ch19-06-macros.html) in Rust, and [proxies](https://developer.mozilla.org/en-US/docs/Web/JavaScript/Guide/Meta_programming) in Javascript. In Julia multiple tools exist for deep customization of types and language behaviors."
   ]
  },
  {
   "cell_type": "code",
   "execution_count": 12,
   "metadata": {},
   "outputs": [
    {
     "data": {
      "text/plain": [
       ":(sqr(x, n) = begin\n",
       "          #= none:1 =#\n",
       "          x ^ n\n",
       "      end)"
      ]
     },
     "execution_count": 12,
     "metadata": {},
     "output_type": "execute_result"
    }
   ],
   "source": [
    "#### SYMBOLS and Code Generation ####\n",
    "program = \"sqr(x,n) = x^n\"\n",
    "exp = Meta.parse(program)"
   ]
  },
  {
   "cell_type": "code",
   "execution_count": 13,
   "metadata": {},
   "outputs": [
    {
     "data": {
      "text/plain": [
       "1024"
      ]
     },
     "execution_count": 13,
     "metadata": {},
     "output_type": "execute_result"
    }
   ],
   "source": [
    "eval(exp)\n",
    "sqr(4,5)"
   ]
  },
  {
   "cell_type": "markdown",
   "metadata": {},
   "source": [
    "## [Macros](https://docs.julialang.org/en/v1/manual/metaprogramming/#man-macros-1)\n",
    "macros provide a way to generate expressions that get compiled directly with the script rather then needing a `eval()` statement to run at runtime. this is really powerful because it means code can be reduced without sacrificing performance. Macros return expressions, which is refered to as `quoting` and provides a way to `quote` generated code in the final script.\n",
    "\n",
    "In the example below the `xy_across` macro takes a function and 2 ranges then applies the x and y range across the function resulting in a multidimensional array. This could be handy for writing simple functions with two inputs then simply calling `@xy_across(...)` when an array is needed that uses multiple inputs across the single function (i.e. parameterized testing)"
   ]
  },
  {
   "cell_type": "code",
   "execution_count": 14,
   "metadata": {},
   "outputs": [
    {
     "data": {
      "text/plain": [
       "@xy_across (macro with 1 method)"
      ]
     },
     "execution_count": 14,
     "metadata": {},
     "output_type": "execute_result"
    }
   ],
   "source": [
    "#### MACROS ####\n",
    "macro xy_across(func, xrng, yrng)\n",
    "    return quote\n",
    "        arr = Any[]\n",
    "        for x = $xrng\n",
    "            for y = $yrng\n",
    "                res = $func(x, y)\n",
    "                vec = [x, y, res]\n",
    "                push!(arr, vec)\n",
    "            end\n",
    "        end\n",
    "        return arr\n",
    "    end\n",
    "end"
   ]
  },
  {
   "cell_type": "code",
   "execution_count": 15,
   "metadata": {},
   "outputs": [
    {
     "data": {
      "text/plain": [
       "18-element Array{Any,1}:\n",
       " [1, 5, 1]\n",
       " [1, 6, 1]\n",
       " [1, 7, 1]\n",
       " [1, 8, 1]\n",
       " [1, 9, 1]\n",
       " [1, 10, 1]\n",
       " [2, 5, 32]\n",
       " [2, 6, 64]\n",
       " [2, 7, 128]\n",
       " [2, 8, 256]\n",
       " [2, 9, 512]\n",
       " [2, 10, 1024]\n",
       " [3, 5, 243]\n",
       " [3, 6, 729]\n",
       " [3, 7, 2187]\n",
       " [3, 8, 6561]\n",
       " [3, 9, 19683]\n",
       " [3, 10, 59049]"
      ]
     },
     "execution_count": 15,
     "metadata": {},
     "output_type": "execute_result"
    }
   ],
   "source": [
    "@xy_across(sqr, 1:3, 5:10)"
   ]
  },
  {
   "cell_type": "markdown",
   "metadata": {},
   "source": [
    "# A Few Cool Projects"
   ]
  },
  {
   "cell_type": "markdown",
   "metadata": {},
   "source": [
    "- plots\n",
    "    - http://docs.juliaplots.org/latest/generated/gr/\n",
    "    - http://docs.juliaplots.org/latest/\n",
    "- faster then pandas, liked by pydata \n",
    "    - https://juliadb.org/\n",
    "    - https://github.com/JuliaData/JuliaDB.jl/blob/master/docs/src/tutorial.md\n",
    "- databases, https://github.com/JuliaDatabases\n",
    "    - https://felipenoris.github.io/Mongoc.jl/stable/tutorial/\n",
    "    - https://github.com/JuliaDatabases/Redis.jl\n",
    "- julia from python, https://pyjulia.readthedocs.io/en/latest/usage.html#high-level-interface\n",
    "- calculus, https://docs.sciml.ai/v5.0.0/tutorials/ode_example.html#Example-2:-Solving-Systems-of-Equations-1\n",
    "- flux for ai, https://fluxml.ai/\n",
    "    - https://fluxml.ai/experiments/mnist/\n",
    "- chemiformatics, https://github.com/svaksha/Julia.jl/blob/master/Chemistry.md\n",
    "- astronomony, https://github.com/JuliaAstro/astrolib.jl\n",
    "- direct GPU support with CUDA, https://juliagpu.gitlab.io/CUDA.jl/usage/overview/#UsageOverview-1\n",
    "- parallelism with composable threads, https://julialang.org/blog/2019/07/multithreading/\n",
    "- web frameworks... cool? (not as cool as rocket.rs), https://genieframework.com/ \n",
    "- julia + jupyter online, https://www.juliabox.com/"
   ]
  },
  {
   "cell_type": "markdown",
   "metadata": {},
   "source": [
    "# Review\n",
    "Julia is a great tool for working with data, scientific computing and other performance intensive opterations related to data work. The strong focus on mathematics and technical computing tasks has bolstered a community of people working in related fields which has greatly helped advance the Julia ecosystem for these areas."
   ]
  },
  {
   "cell_type": "markdown",
   "metadata": {},
   "source": [
    "# Resources\n",
    "If you find this notebook incomplete or lacking, try refering to these julia resources.\n",
    "- [Julia Docs](https://docs.julialang.org/en/v1/manual/getting-started/)\n",
    "- [Julia Cheatsheet](https://juliadocs.github.io/Julia-Cheat-Sheet/)\n",
    "- [Julia Learning Resources](https://julialang.org/learning/)"
   ]
  }
 ],
 "metadata": {
  "kernelspec": {
   "display_name": "Julia 1.4.1",
   "language": "julia",
   "name": "julia-1.4"
  },
  "language_info": {
   "file_extension": ".jl",
   "mimetype": "application/julia",
   "name": "julia",
   "version": "1.4.1"
  }
 },
 "nbformat": 4,
 "nbformat_minor": 4
}
